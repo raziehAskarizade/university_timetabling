{
 "cells": [
  {
   "attachments": {},
   "cell_type": "markdown",
   "metadata": {},
   "source": [
    "Professor class"
   ]
  },
  {
   "cell_type": "code",
   "execution_count": 85,
   "metadata": {},
   "outputs": [],
   "source": [
    "class Professor:\n",
    "\n",
    "    VALID_DEGREE = [\"Assistant Professor\",\n",
    "                    \"Associate Professor\", \"Lecturer\", \"Professor\"]\n",
    "\n",
    "    def __init__(self, id, first_name, last_name, email, department, degree):\n",
    "        self.id = id\n",
    "        self.first_name = first_name\n",
    "        self.last_name = last_name\n",
    "        self.email = email\n",
    "        self.department = department\n",
    "        if degree in self.VALID_DEGREE:\n",
    "            self.degree = degree\n",
    "        else:\n",
    "            print(\n",
    "                f\"Invalid degree. Please choose from {', '.join(self.VALID_DEGREE)}\")\n",
    "\n",
    "        self.available_times = []\n",
    "\n",
    "    def add_available_time(self, time):\n",
    "        self.available_times.append(time)\n",
    "\n",
    "    def __str__(self):\n",
    "        return f\"{self.id}\""
   ]
  },
  {
   "attachments": {},
   "cell_type": "markdown",
   "metadata": {},
   "source": [
    "Classroom class"
   ]
  },
  {
   "cell_type": "code",
   "execution_count": 86,
   "metadata": {},
   "outputs": [],
   "source": [
    "class Class:\n",
    "    def __init__(self, name, address, capacity, has_lab, has_projector, department):\n",
    "        self.name = name              \n",
    "        self.address = address       \n",
    "        self.capacity = capacity     \n",
    "        self.has_lab = has_lab\n",
    "        self.has_projector = has_projector\n",
    "        self.department = department\n",
    "\n",
    "    def __str__(self):\n",
    "        return f\"{self.name}\""
   ]
  },
  {
   "attachments": {},
   "cell_type": "markdown",
   "metadata": {},
   "source": [
    "Course class"
   ]
  },
  {
   "cell_type": "code",
   "execution_count": 87,
   "metadata": {},
   "outputs": [],
   "source": [
    "class Course:\n",
    "    VALID_LEVELS = [\"Bachelor's\", \"Master's\", \"Ph.D.\"]\n",
    "\n",
    "    def __init__(self, course_code, course_name, department, instructor, max_students, prerequisites, units, is_practical, level):\n",
    "        self.course_code = course_code  \n",
    "        self.course_name = course_name  \n",
    "        self.department = department \n",
    "        self.instructor = instructor\n",
    "        self.max_students = max_students\n",
    "        self.prerequisites = prerequisites\n",
    "        self.units = units\n",
    "        # True if the course is practical, False if theoretical\n",
    "        self.is_practical = is_practical\n",
    "        if level in self.VALID_LEVELS:\n",
    "            # Academic level (e.g., \"Bachelor's\", \"Master's\", \"Ph.D.\")\n",
    "            self.level = level\n",
    "        else:\n",
    "            raise ValueError(\n",
    "                f\"Invalid level. Please choose from {', '.join(self.VALID_LEVELS)}\")\n",
    "\n",
    "    def __str__(self):\n",
    "        return f\"{self.course_code}\""
   ]
  },
  {
   "attachments": {},
   "cell_type": "markdown",
   "metadata": {},
   "source": [
    "S.th to check"
   ]
  },
  {
   "cell_type": "code",
   "execution_count": 88,
   "metadata": {},
   "outputs": [],
   "source": [
    "# def generate_course_schedule(self, term, degree, lessons):\n",
    "#     # Validate the degree\n",
    "#     if (degree not in self.VALID_CLEVEL) or (lessons is None or not isinstance(lessons, list) or len(lessons) == 0):\n",
    "#         return \"Invalid degree. or No courses available for this degree\"\n",
    "#     else:\n",
    "#         # Create the course schedule dictionary\n",
    "#         courses = {degree: lessons}\n",
    "#         course_schedule = {term: courses}\n",
    "#         self.course.append(course_schedule)\n",
    "\n",
    "#         return self.id, self.available_times, self.course\n",
    "\n",
    "# def set_degree(self, degree):\n",
    "#     # Check if professor can get lessons for the given level\n",
    "#     if self.title in [\"Assistant Professor\", \"Associate Professor\", \"Lecturer\"] and degree == \"Ph.D.\":\n",
    "#         print(f\"{self.title} professors cannot get lessons for Ph.D. degree\")\n",
    "#         return None\n",
    "#     else:\n",
    "#         return degree"
   ]
  },
  {
   "attachments": {},
   "cell_type": "markdown",
   "metadata": {},
   "source": [
    "*manualy Samples created by pow.com*"
   ]
  },
  {
   "attachments": {},
   "cell_type": "markdown",
   "metadata": {},
   "source": [
    "Professor manualy samples"
   ]
  },
  {
   "cell_type": "code",
   "execution_count": 89,
   "metadata": {},
   "outputs": [],
   "source": [
    "prof = []\n",
    "\n",
    "# Sample 1\n",
    "professor_1 = Professor(1, \"John\", \"Doe\", \"johndoe@example.com\", \"Computer Engineering\", \"Assistant Professor\")\n",
    "professor_1.add_available_time(\"Monday 9:00-10:30\")\n",
    "professor_1.add_available_time(\"Tuesday 11:00-12:30\")\n",
    "prof.append(professor_1)\n",
    "\n",
    "\n",
    "# Sample 2\n",
    "professor_2 = Professor(2, \"Jane\", \"Doe\", \"janedoe@example.com\", \"Computer Engineering\", \"Associate Professor\")\n",
    "professor_2.add_available_time(\"Tuesday 11:00-12:30\")\n",
    "professor_2.add_available_time(\"Wednesday 13:00-14:30\")\n",
    "prof.append(professor_2)\n",
    "\n",
    "# Sample 3\n",
    "professor_3 = Professor(3, \"Bob\", \"Smith\", \"bobsmith@example.com\", \"Computer Engineering\", \"Lecturer\")\n",
    "professor_3.add_available_time(\"Monday 14:00-15:30\")\n",
    "professor_3.add_available_time(\"Tuesday 10:00-11:30\")\n",
    "professor_3.add_available_time(\"Thursday 9:00-10:30\")\n",
    "prof.append(professor_3)\n",
    "\n",
    "# Sample 4\n",
    "professor_4 = Professor(4, \"Alice\", \"Johnson\", \"alicejohnson@example.com\", \"Computer Engineering\", \"Professor\")\n",
    "professor_4.add_available_time(\"Monday 16:00-17:30\")\n",
    "professor_4.add_available_time(\"Wednesday 11:00-12:30\")\n",
    "professor_4.add_available_time(\"Saturday 9:00-10:30\")\n",
    "professor_4.add_available_time(\"Saturday 13:00-14:30\")\n",
    "prof.append(professor_4)\n",
    "\n",
    "# Sample 5\n",
    "professor_5 = Professor(5, \"David\", \"Lee\", \"davidlee@example.com\", \"Computer Engineering\", \"Assistant Professor\")\n",
    "professor_5.add_available_time(\"Monday 11:00-12:30\")\n",
    "professor_5.add_available_time(\"Wednesday 15:00-16:30\")\n",
    "prof.append(professor_5)\n",
    "\n",
    "# Sample 6\n",
    "professor_6 = Professor(6, \"Sarah\", \"Williams\", \"sarahwilliams@example.com\", \"Computer Engineering\", \"Associate Professor\")\n",
    "professor_6.add_available_time(\"Monday 10:00-11:30\")\n",
    "professor_6.add_available_time(\"Tuesday 13:00-14:30\")\n",
    "professor_6.add_available_time(\"Saturday 11:00-12:30\")\n",
    "prof.append(professor_6)\n",
    "\n",
    "# Sample 7\n",
    "professor_7 = Professor(7, \"Michael\", \"Taylor\", \"michaeltaylor@example.com\", \"Computer Engineering\", \"Lecturer\")\n",
    "professor_7.add_available_time(\"Tuesday 16:00-17:30\")\n",
    "professor_7.add_available_time(\"Wednesday 9:00-10:30\")\n",
    "prof.append(professor_7)\n",
    "\n",
    "# Sample 8\n",
    "professor_8 = Professor(8, \"Emily\", \"Anderson\", \"emilyanderson@example.com\", \"Computer Engineering\", \"Professor\")\n",
    "professor_8.add_available_time(\"Monday 15:00-16:30\")\n",
    "professor_8.add_available_time(\"Tuesday 9:00-10:30\")\n",
    "professor_8.add_available_time(\"Thursday 13:00-14:30\")\n",
    "prof.append(professor_8)\n",
    "\n",
    "# Sample 9\n",
    "professor_9 = Professor(9, \"Richard\", \"Brown\", \"richardbrown@example.com\", \"Computer Engineering\", \"Assistant Professor\")\n",
    "professor_9.add_available_time(\"Tuesday 15:00-16:30\")\n",
    "professor_9.add_available_time(\"Thursday 11:00-12:30\")\n",
    "professor_9.add_available_time(\"Saturday 10:00-11:30\")\n",
    "prof.append(professor_9)\n",
    "\n",
    "# Sample 10\n",
    "professor_10 = Professor(10, \"Laura\", \"Davis\", \"lauradavis@example.com\", \"Computer Engineering\", \"Associate Professor\")\n",
    "professor_10.add_available_time(\"Monday 13:00-14:30\")\n",
    "professor_10.add_available_time(\"Wednesday 10:00-11:30\")\n",
    "professor_10.add_available_time(\"Saturday 14:00-15:30\")\n",
    "prof.append(professor_10)\n",
    "\n",
    "# Sample 11\n",
    "professor_11 = Professor(11, \"Daniel\", \"Garcia\", \"danielgarcia@example.com\", \"Computer Engineering\", \"Lecturer\")\n",
    "professor_11.add_available_time(\"Monday 9:00-10:30\")\n",
    "professor_11.add_available_time(\"Wednesday 13:00-14:30\")\n",
    "professor_11.add_available_time(\"Thursday 10:00-11:30\")\n",
    "professor_11.add_available_time(\"Saturday 11:00-12:30\")\n",
    "prof.append(professor_11)\n",
    "\n",
    "# Sample 12\n",
    "professor_12 = Professor(12, \"Olivia\", \"Martin\", \"oliviamartin@example.com\", \"Computer Engineering\", \"Professor\")\n",
    "professor_12.add_available_time(\"Tuesday 10:00-11:30\")\n",
    "professor_12.add_available_time(\"Thursday 14:00-15:30\")\n",
    "prof.append(professor_12)\n",
    "\n",
    "# Sample 13\n",
    "professor_13 = Professor(13, \"Mark\", \"Clark\", \"markclark@example.com\", \"Computer Engineering\", \"Assistant Professor\")\n",
    "professor_13.add_available_time(\"Monday 10:00-11:30\")\n",
    "professor_13.add_available_time(\"Wednesday 16:00-17:30\")\n",
    "professor_13.add_available_time(\"Saturday 13:00-14:30\")\n",
    "prof.append(professor_13)\n",
    "\n",
    "# Sample 14\n",
    "professor_14 = Professor(14, \"Ava\", \"Taylor\", \"avataylor@example.com\", \"Computer Engineering\", \"Associate Professor\")\n",
    "professor_14.add_available_time(\"Monday 14:00-15:30\")\n",
    "professor_14.add_available_time(\"Tuesday 11:00-12:30\")\n",
    "professor_14.add_available_time(\"Thursday 9:00-10:30\")\n",
    "professor_14.add_available_time(\"Saturday 16:00-17:30\")\n",
    "prof.append(professor_14)\n",
    "\n",
    "# Sample 15\n",
    "professor_15 = Professor(15, \"Thomas\", \"Brown\", \"thomasbrown@example.com\", \"Computer Engineering\", \"Lecturer\")\n",
    "professor_15.add_available_time(\"Monday 9:00-10:30\")\n",
    "professor_15.add_available_time(\"Tuesday 13:00-14:30\")\n",
    "professor_15.add_available_time(\"Thursday 16:00-17:30\")\n",
    "professor_15.add_available_time(\"Saturday 11:00-12:30\")\n",
    "prof.append(professor_15)\n",
    "\n",
    "# Sample 16\n",
    "professor_16 = Professor(16, \"Sophia\", \"Davis\", \"sophiadavis@example.com\", \"Computer Engineering\", \"Professor\")\n",
    "professor_16.add_available_time(\"Monday 15:00-16:30\")\n",
    "professor_16.add_available_time(\"Wednesday 11:00-12:30\")\n",
    "prof.append(professor_16)\n",
    "\n",
    "# Sample 17\n",
    "professor_17 = Professor(17, \"William\", \"Wilson\", \"williamwilson@example.com\", \"Computer Engineering\", \"Assistant Professor\")\n",
    "professor_17.add_available_time(\"Tuesday 9:00-10:30\")\n",
    "professor_17.add_available_time(\"Thursday 13:00-14:30\")\n",
    "professor_17.add_available_time(\"Saturday 16:00-17:30\")\n",
    "prof.append(professor_17)\n",
    "\n",
    "# Sample 18\n",
    "professor_18 = Professor(18, \"Elizabeth\", \"Anderson\", \"elizabethanderson@example.com\", \"Computer Engineering\", \"Associate Professor\")\n",
    "professor_18.add_available_time(\"Monday 11:00-12:30\")\n",
    "professor_18.add_available_time(\"Wednesday 14:00-15:30\")\n",
    "professor_18.add_available_time(\"Thursday 10:00-11:30\")\n",
    "prof.append(professor_18)\n",
    "\n",
    "# Sample 19\n",
    "professor_19 = Professor(19, \"Christopher\", \"Robinson\", \"christopherrobinson@example.com\", \"Computer Engineering\", \"Lecturer\")\n",
    "professor_19.add_available_time(\"Monday 13:00-14:30\")\n",
    "professor_19.add_available_time(\"Tuesday 16:00-17:30\")\n",
    "professor_19.add_available_time(\"Wednesday 9:00-10:30\")\n",
    "professor_19.add_available_time(\"Thursday 11:00-12:30\")\n",
    "prof.append(professor_19)\n",
    "\n",
    "# Sample 20\n",
    "professor_20 = Professor(20, \"Ella\", \"Miller\", \"ellamiller@example.com\", \"Computer Engineering\", \"Professor\")\n",
    "professor_20.add_available_time(\"Tuesday 14:00-15:30\")\n",
    "professor_20.add_available_time(\"Thursday 9:00-10:30\")\n",
    "professor_20.add_available_time(\"Saturday 11:00-12:30\")\n",
    "prof.append(professor_20)\n",
    "\n",
    "\n",
    "field_names = ['ID', 'First Name', 'Last Name', 'Email', 'Department', 'Degree', 'Available Times']\n",
    "with open('professors.csv', mode='w' , newline='') as file:\n",
    "    writer = csv.writer(file)\n",
    "    writer.writerow(field_names)\n",
    "\n",
    "    for professor in prof:\n",
    "        row = [professor.id, professor.first_name, professor.last_name, professor.email,\n",
    "               professor.department, professor.degree, ', '.join(professor.available_times)]\n",
    "        writer.writerow(row)"
   ]
  },
  {
   "attachments": {},
   "cell_type": "markdown",
   "metadata": {},
   "source": [
    "Course manualy samples"
   ]
  },
  {
   "cell_type": "code",
   "execution_count": 90,
   "metadata": {},
   "outputs": [],
   "source": [
    "# when it was in another .py file\n",
    "# import prof_samples\n",
    "# import timetable\n",
    "\n",
    "courses = []\n",
    "\n",
    "# Course 1\n",
    "course_1 = Course(\"CE101\", \"Introduction to Computer Science\", \"Computer Engineering\", professor_1, 100, [], 3, False, \"Bachelor's\")\n",
    "courses.append(course_1)\n",
    "\n",
    "# Course 2\n",
    "course_2 = Course(\"CE102\", \"Data Structures and Algorithms\", \"Computer Engineering\", professor_2, 80, [\"CE101\"], 3, False, \"Bachelor's\")\n",
    "courses.append(course_2)\n",
    "\n",
    "# Course 3\n",
    "course_3 = Course(\"CE103\", \"Database Systems\", \"Computer Engineering\", professor_3, 60, [\"CE101\"], 3, False, \"Bachelor's\")\n",
    "courses.append(course_3)\n",
    "\n",
    "# Course 4\n",
    "course_4 = Course(\"CE104\", \"Operating Systems\", \"Computer Engineering\", professor_4, 50, [\"CE102\"], 3, False, \"Bachelor's\")\n",
    "courses.append(course_4)\n",
    "\n",
    "# Course 5\n",
    "course_5 = Course(\"CE105\", \"Computer Networks\", \"Computer Engineering\", professor_5, 70, [\"CE102\"], 3, False, \"Bachelor's\")\n",
    "courses.append(course_5)\n",
    "\n",
    "# Course 6\n",
    "course_6 = Course(\"CE106\", \"Computer Architecture\", \"Computer Engineering\", professor_6, 60, [\"CE102\"], 3, False, \"Bachelor's\")\n",
    "courses.append(course_6)\n",
    "\n",
    "# Course 7\n",
    "course_7 = Course(\"CE107\", \"Software Engineering\", \"Computer Engineering\", professor_7, 50, [\"CE102\"], 3, False, \"Bachelor's\")\n",
    "courses.append(course_7)\n",
    "\n",
    "# Course 8\n",
    "course_8 = Course(\"CE201\", \"Artificial Intelligence\", \"Computer Engineering\", professor_8, 40, [\"CE102\"], 3, False, \"Master's\")\n",
    "courses.append(course_8)\n",
    "\n",
    "# Course 9\n",
    "course_9 = Course(\"CE202\", \"Machine Learning\", \"Computer Engineering\", professor_9, 30, [\"CE201\", \"CE102\"], 3, False, \"Master's\")\n",
    "courses.append(course_9)\n",
    "\n",
    "# Course 10\n",
    "course_10 = Course(\"CE203\", \"Computer Vision\", \"Computer Engineering\", professor_10, 30, [\"CE201\", \"CE102\"], 3, False, \"Master's\")\n",
    "courses.append(course_10)\n",
    "\n",
    "# Course 11\n",
    "course_11 = Course(\"CE204\", \"Data Mining\", \"Computer Engineering\", professor_11, 40, [\"CE103\", \"CE102\"], 3, False, \"Master's\")\n",
    "courses.append(course_11)\n",
    "\n",
    "# Course 12\n",
    "course_12 = Course(\"CE205\", \"Distributed Systems\", \"Computer Engineering\", professor_12, 30, [\"CE104\", \"CE102\"], 3, False, \"Master's\")\n",
    "courses.append(course_12)\n",
    "\n",
    "# Course 13\n",
    "course_13 = Course(\"CE206\", \"Cloud Computing\", \"Computer Engineering\", professor_13, 40, [\"CE104\", \"CE102\"], 3, False, \"Master's\")\n",
    "courses.append(course_13)\n",
    "\n",
    "# Course 14\n",
    "course_14 = Course(\"CE207\", \"Computer Security\", \"Computer Engineering\", professor_14, 50, [\"CE104\", \"CE102\"], 3, False, \"Master's\")\n",
    "courses.append(course_14)\n",
    "\n",
    "# Course 15\n",
    "course_15 = Course(\"CE301\", \"Computer Graphics\", \"Computer Engineering\", professor_15, 20, [\"CE106\"], 3, False, \"Ph.D.\")\n",
    "courses.append(course_15)\n",
    "\n",
    "# Course 16\n",
    "course_16 = Course(\"CE302\", \"Advanced Algorithms\", \"Computer Engineering\", professor_16, 20, [\"CE102\"], 3, False, \"Ph.D.\")\n",
    "courses.append(course_16)\n",
    "\n",
    "# Course 17\n",
    "course_17 = Course(\"CE303\", \"Natural Language Processing\", \"Computer Engineering\", professor_17, 20, [\"CE201\", \"CE102\"], 3, False, \"Ph.D.\")\n",
    "courses.append(course_17)\n",
    "\n",
    "# Course 18\n",
    "course_18 = Course(\"CE304\", \"Advanced Topics in Computer Science\", \"Computer Engineering\", professor_18, 20, [\"CE102\"], 3, False, \"Ph.D.\")\n",
    "courses.append(course_18)\n",
    "\n",
    "# Course 19\n",
    "course_19 = Course(\"CE305\", \"Quantum Computing\", \"Computer Engineering\", professor_19, 20, [\"CE106\", \"CE102\"], 3, False, \"Ph.D.\")\n",
    "courses.append(course_19)\n",
    "\n",
    "# Course 20\n",
    "course_20 = Course(\"CE306\", \"Parallel Computing\", \"Computer Engineering\", professor_20, 20, [\"CE104\", \"CE102\"], 3, False, \"Ph.D.\")\n",
    "courses.append(course_20)\n",
    "\n",
    "# Course 21\n",
    "course_21 = Course(\"CE307\", \"Computer Science Seminar\", \"Computer Engineering\", professor_1, 20, [], 1, False, \"Bachelor's\")\n",
    "courses.append(course_21)\n",
    "\n",
    "# Course 22\n",
    "course_22 = Course(\"CE308\", \"Research Methods in Computer Science\", \"Computer Engineering\", professor_2, 30, [], 2, False, \"Master's\")\n",
    "courses.append(course_22)\n",
    "\n",
    "# Course 23\n",
    "course_23 = Course(\"CE309\", \"Graduate Seminar in Computer Science\", \"Computer Engineering\", professor_3, 30, [], 1, False, \"Ph.D.\")\n",
    "courses.append(course_23)\n",
    "\n",
    "# Course 24\n",
    "course_24 = Course(\"CE310\", \"Introduction to Robotics\", \"ComputerEngineering\", professor_4, 40, [\"CE102\"], 3, False, \"Bachelor's\")\n",
    "courses.append(course_24)\n",
    "\n",
    "# Course 25\n",
    "course_25 = Course(\"CE311\", \"Robotics Control Systems\", \"Computer Engineering\", professor_5, 30, [\"CE310\"], 3, False, \"Master's\")\n",
    "courses.append(course_25)\n",
    "\n",
    "# Course 26\n",
    "course_26 = Course(\"CE312\", \"Robotics Perception and Navigation\", \"Computer Engineering\", professor_6, 30, [\"CE310\"], 3, False, \"Master's\")\n",
    "courses.append(course_26)\n",
    "\n",
    "# Course 27\n",
    "course_27 = Course(\"CE313\", \"Advanced Topics in Robotics\", \"Computer Engineering\", professor_7, 40, [\"CE311\", \"CE312\"], 3, False, \"Ph.D.\")\n",
    "courses.append(course_27)\n",
    "\n",
    "# Course 28\n",
    "course_28 = Course(\"EE101\", \"Introduction to Electrical Engineering\", \"Electrical Engineering\", professor_8, 100, [], 3, False, \"Bachelor's\")\n",
    "courses.append(course_28)\n",
    "\n",
    "# Course 29\n",
    "course_29 = Course(\"EE102\", \"Circuit Analysis\", \"Electrical Engineering\", professor_9, 80, [\"EE101\"], 3, False, \"Bachelor's\")\n",
    "courses.append(course_29)\n",
    "\n",
    "# Course 30\n",
    "course_30 = Course(\"EE103\", \"Electromagnetic Fields and Waves\", \"Electrical Engineering\", professor_10, 60, [\"EE101\"], 3, False, \"Bachelor's\")\n",
    "courses.append(course_30)\n",
    "\n",
    "# Course 31\n",
    "course_31 = Course(\"EE104\", \"Digital Signal Processing\", \"Electrical Engineering\", professor_11, 50, [\"EE102\"], 3, False, \"Bachelor's\")\n",
    "courses.append(course_31)\n",
    "\n",
    "# Course 32\n",
    "course_32 = Course(\"EE105\", \"Power Electronics\", \"Electrical Engineering\", professor_12, 70, [\"EE102\"], 3, False, \"Bachelor's\")\n",
    "courses.append(course_32)\n",
    "\n",
    "# Course 33\n",
    "course_33 = Course(\"EE201\", \"Control Systems\", \"Electrical Engineering\", professor_13, 40, [\"EE102\"], 3, False, \"Master's\")\n",
    "courses.append(course_33)\n",
    "\n",
    "# Course 34\n",
    "course_34 = Course(\"EE202\", \"Power Systems Analysis\", \"Electrical Engineering\", professor_14, 30, [\"EE103\"], 3, False, \"Master's\")\n",
    "courses.append(course_34)\n",
    "\n",
    "# Course 35\n",
    "course_35 = Course(\"EE203\", \"Communication Systems\", \"Electrical Engineering\", professor_15, 40, [\"EE104\"], 3, False, \"Master's\")\n",
    "courses.append(course_35)\n",
    "\n",
    "# Course 36\n",
    "course_36 = Course(\"EE204\", \"Optoelectronics\", \"Electrical Engineering\", professor_16, 30, [\"EE103\"], 3, False, \"Master's\")\n",
    "courses.append(course_36)\n",
    "\n",
    "# Course 37\n",
    "course_37 = Course(\"EE205\", \"Advanced Topics in Electrical Engineering\", \"Electrical Engineering\", professor_17, 40, [\"EE102\"], 3, False, \"Ph.D.\")\n",
    "courses.append(course_37)\n",
    "\n",
    "# Course 38\n",
    "course_38 = Course(\"ME101\", \"Introduction to Mechanical Engineering\", \"Mechanical Engineering\", professor_18, 100, [], 3, False, \"Bachelor's\")\n",
    "courses.append(course_38)\n",
    "\n",
    "# Course 39\n",
    "course_39 = Course(\"ME102\", \"Engineering Mechanics\", \"Mechanical Engineering\", professor_19, 80, [\"ME101\"], 3, False, \"Bachelor's\")\n",
    "courses.append(course_39)\n",
    "\n",
    "# Course 40\n",
    "course_40 = Course(\"ME103\", \"Materials Science and Engineering\", \"Mechanical Engineering\", professor_20, 60, [\"ME101\"], 3, False, \"Bachelor's\")\n",
    "courses.append(course_40)\n",
    "\n",
    "\n",
    "with open('courses.csv', mode='w', newline='') as file:\n",
    "\n",
    "    # Create a CSV writer object\n",
    "    writer = csv.writer(file)\n",
    "\n",
    "    # Write the header row to the CSV file\n",
    "    writer.writerow(['Code', 'Title', 'Department', 'Professor', 'Capacity', 'Prerequisites', 'Unit', 'Is Practical', 'Degree level'])\n",
    "\n",
    "    # Write the data to the CSV file\n",
    "    for course in courses:\n",
    "        writer.writerow([course.course_code, course.course_name, course.department, course.instructor, course.max_students,\n",
    "         ', '.join(course.prerequisites), course.units, course.is_practical, course.level])"
   ]
  },
  {
   "attachments": {},
   "cell_type": "markdown",
   "metadata": {},
   "source": [
    "Classroom manualy samples"
   ]
  },
  {
   "cell_type": "code",
   "execution_count": 91,
   "metadata": {},
   "outputs": [],
   "source": [
    "classes = []\n",
    "\n",
    "\n",
    "# Create 20 sample classes for the Engineering Computer Department\n",
    "class_1 = Class(\"EC101\", \"Engineering Building Room 101\", 50, True, True, \"Engineering Computer\")\n",
    "classes.append(class_1)\n",
    "\n",
    "class_2 = Class(\"EC102\", \"Engineering Building Room 102\", 40, True, True, \"Engineering Computer\")\n",
    "classes.append(class_2)\n",
    "\n",
    "class_3 = Class(\"EC103\", \"Engineering Building Room 103\", 35, True, False, \"Engineering Computer\")\n",
    "classes.append(class_3)\n",
    "\n",
    "class_4 = Class(\"EC104\", \"Engineering Building Room 104\", 60, True, True, \"Engineering Computer\")\n",
    "classes.append(class_4)\n",
    "\n",
    "class_5 = Class(\"EC105\", \"Engineering Building Room 105\", 45, True, False, \"Engineering Computer\")\n",
    "classes.append(class_5)\n",
    "\n",
    "class_6 = Class(\"EC106\", \"Engineering Building Room 106\", 55, True, True, \"Engineering Computer\")\n",
    "classes.append(class_6)\n",
    "\n",
    "class_7 = Class(\"EC107\", \"Engineering Building Room 107\", 30, False, False, \"Engineering Computer\")\n",
    "classes.append(class_7)\n",
    "\n",
    "class_8 = Class(\"EC108\", \"Engineering Building Room 108\", 50, True, False, \"Engineering Computer\")\n",
    "classes.append(class_8)\n",
    "\n",
    "class_9 = Class(\"EC109\", \"Engineering Building Room 109\", 40, False, True, \"Engineering Computer\")\n",
    "classes.append(class_9)\n",
    "\n",
    "class_10 = Class(\"EC110\", \"Engineering Building Room 110\", 25, False, False, \"Engineering Computer\")\n",
    "classes.append(class_10)\n",
    "\n",
    "class_11 = Class(\"EC201\", \"Engineering Building Room 201\", 35, True, True, \"Engineering Computer\")\n",
    "classes.append(class_11)\n",
    "\n",
    "class_12 = Class(\"EC202\", \"Engineering Building Room 202\", 50, True, False, \"Engineering Computer\")\n",
    "classes.append(class_12)\n",
    "\n",
    "class_13 = Class(\"EC203\", \"Engineering Building Room 203\", 45, True, True, \"Engineering Computer\")\n",
    "classes.append(class_13)\n",
    "\n",
    "class_14 = Class(\"EC204\", \"Engineering Building Room 204\", 60, True, False, \"Engineering Computer\")\n",
    "classes.append(class_14)\n",
    "\n",
    "class_15 = Class(\"EC205\", \"Engineering Building Room 205\", 40, False, True, \"Engineering Computer\")\n",
    "classes.append(class_15)\n",
    "\n",
    "class_16 = Class(\"EC206\", \"Engineering Building Room 206\", 30, False, False, \"Engineering Computer\")\n",
    "classes.append(class_16)\n",
    "\n",
    "class_17 = Class(\"EC207\", \"Engineering Building Room 207\", 55, True, True, \"Engineering Computer\")\n",
    "classes.append(class_17)\n",
    "\n",
    "class_18 = Class(\"EC208\", \"Engineering Building Room 208\", 50, True, False, \"Engineering Computer\")\n",
    "classes.append(class_18)\n",
    "\n",
    "class_19 = Class(\"EC209\", \"Engineering Building Room 209\", 35, False, True, \"Engineering Computer\")\n",
    "classes.append(class_19)\n",
    "\n",
    "class_20 = Class(\"EC210\", \"Engineering Building Room 210\", 45, False, False, \"Engineering Computer\")\n",
    "classes.append(class_20)\n",
    "\n",
    "\n",
    "# Write the list of classes to a CSV file\n",
    "with open('classes.csv', mode='w', newline='') as file:\n",
    "    writer = csv.writer(file)\n",
    "    writer.writerow(['Name', 'Address', 'Capacity', 'Has Lab', 'Has Projector', 'Department'])\n",
    "    for class_obj in classes:\n",
    "        writer.writerow([class_obj.name, class_obj.address, class_obj.capacity, class_obj.has_lab, class_obj.has_projector, class_obj.department])"
   ]
  },
  {
   "attachments": {},
   "cell_type": "markdown",
   "metadata": {},
   "source": [
    "Professors & Courses together"
   ]
  },
  {
   "cell_type": "code",
   "execution_count": 92,
   "metadata": {},
   "outputs": [],
   "source": [
    "def CP(course_path, porf_path):\n",
    "    p_df = pd.read_csv(porf_path)\n",
    "    c_df = pd.read_csv(course_path)\n",
    "\n",
    "    c_df = c_df.drop([\"Title\", \"Department\", \"Capacity\", \"Unit\"], axis=1)\n",
    "\n",
    "    # Iterate over the courses DF and fill in the new columns with data from the professors DF\n",
    "    for idx, row in c_df.iterrows():\n",
    "        prof_id = row[\"Professor\"]\n",
    "        prof_row = p_df[p_df['ID'] == prof_id]\n",
    "        # prof_name = prof_row['Name'].iloc[0]\n",
    "        # c_df.at[idx, \"Professor Name\"] = prof_name\n",
    "\n",
    "        prof_available_times = prof_row['Available Times'].iloc[0]\n",
    "        c_df.at[idx, \"Professor Available Times\"] = prof_available_times\n",
    "\n",
    "    # Write the modified DataFrame to a new CSV file\n",
    "    c_df.to_csv('CP.csv', index=False)\n",
    "        \n",
    "\n",
    "# CP(\"your path\\csv files\\courses.csv\", \"your path\\csv files\\professors.csv\")"
   ]
  },
  {
   "attachments": {},
   "cell_type": "markdown",
   "metadata": {},
   "source": [
    "   "
   ]
  },
  {
   "cell_type": "markdown",
   "metadata": {},
   "source": []
  },
  {
   "cell_type": "markdown",
   "metadata": {},
   "source": []
  },
  {
   "attachments": {},
   "cell_type": "markdown",
   "metadata": {},
   "source": [
    "Import required libraries"
   ]
  },
  {
   "cell_type": "code",
   "execution_count": 1,
   "metadata": {},
   "outputs": [],
   "source": [
    "import pandas as pd\n",
    "import random\n",
    "import ast\n",
    "import csv\n",
    "import plotly.graph_objects as go"
   ]
  },
  {
   "attachments": {},
   "cell_type": "markdown",
   "metadata": {},
   "source": [
    "Encode and Decode Prerequisites"
   ]
  },
  {
   "cell_type": "code",
   "execution_count": 2,
   "metadata": {},
   "outputs": [],
   "source": [
    "def encode_prerequisites(x):\n",
    "    if pd.isna(x) or x == 'None':\n",
    "        return '00000000'\n",
    "    else:\n",
    "        return ''.join(format(ord(c), '08b') for c in x)\n",
    "\n",
    "def decode_prerequisites(x):\n",
    "    if x == 0 or x == '0':\n",
    "        return None\n",
    "    else:\n",
    "        return ''.join(chr(int(x[i:i+8], 2)) for i in range(0, len(x), 8)) "
   ]
  },
  {
   "attachments": {},
   "cell_type": "markdown",
   "metadata": {},
   "source": [
    "Encode and Decode Degree Level"
   ]
  },
  {
   "cell_type": "code",
   "execution_count": 3,
   "metadata": {},
   "outputs": [],
   "source": [
    "#  one-hot\n",
    "VALID_LEVELS = [\"Bachelor's\", \"Master's\", \"Ph.D.\"]\n",
    "def encode_dlevel(x):\n",
    "    encoding = [1 if level == x else 0 for level in VALID_LEVELS]\n",
    "    return encoding\n",
    "\n",
    "def decode_dlevel(x):\n",
    "    \n",
    "    index_of_one = ast.literal_eval(x).index(1)\n",
    "    \n",
    "    return VALID_LEVELS[index_of_one]"
   ]
  },
  {
   "attachments": {},
   "cell_type": "markdown",
   "metadata": {},
   "source": [
    "Encode and Decode Avalable Times"
   ]
  },
  {
   "cell_type": "code",
   "execution_count": 4,
   "metadata": {},
   "outputs": [],
   "source": [
    "def encode_timetable(timetable):\n",
    "    time_slots = timetable.split(\", \")\n",
    "    encodedtable = []\n",
    "\n",
    "    for slot in time_slots:\n",
    "        day, time_range = slot.split(\" \")\n",
    "        start_time, end_time = time_range.split(\"-\")\n",
    "        \n",
    "        day_binary = format([\"Monday\", \"Tuesday\", \"Wednesday\", \"Thursday\", \"Friday\", \"Saturday\", \"Sunday\"].index(day), '03b')\n",
    "        \n",
    "        s_hour, s_minute = start_time.split(\":\")\n",
    "        e_hour, e_minute = end_time.split(\":\")\n",
    "\n",
    "        s_hour_binary = format(int(s_hour), '010b')\n",
    "        s_minute_binary = format(int(s_minute), '010b')\n",
    "        start_time_binary = s_hour_binary + s_minute_binary\n",
    "        e_hour_binary = format(int(e_hour), '010b')\n",
    "        e_minute_binary = format(int(e_minute), '010b')\n",
    "        end_time_binary = e_hour_binary + e_minute_binary\n",
    "        \n",
    "        encodedtable.append(day_binary + start_time_binary + end_time_binary)\n",
    "    \n",
    "    return encodedtable\n",
    "\n",
    "\n",
    "def decode_timetable(encodedtable):\n",
    "    decodedtable = []\n",
    "    for encoded_slot in ast.literal_eval(encodedtable):\n",
    "        day_index = int(encoded_slot[:3], 2)\n",
    "        day = [\"Monday\", \"Tuesday\", \"Wednesday\", \"Thursday\", \"Friday\", \"Saturday\", \"Sunday\"][day_index]\n",
    "    \n",
    "        start_hour = int(encoded_slot[3:13], 2)\n",
    "        start_minute = int(encoded_slot[13:23], 2)\n",
    "        end_hour = int(encoded_slot[23:33], 2)\n",
    "        end_minute = int(encoded_slot[33:], 2)\n",
    "        \n",
    "        start_time = f\"{start_hour:02d}:{start_minute:02d}\"\n",
    "        end_time = f\"{end_hour:02d}:{end_minute:02d}\"\n",
    "        \n",
    "        decodedtable.append(f\"{day} {start_time}-{end_time}\")\n",
    "    \n",
    "    return decodedtable"
   ]
  },
  {
   "attachments": {},
   "cell_type": "markdown",
   "metadata": {},
   "source": [
    "Binary (encode data)"
   ]
  },
  {
   "cell_type": "code",
   "execution_count": 5,
   "metadata": {},
   "outputs": [],
   "source": [
    "df = pd.read_csv('your path\\csv files\\CP.csv')\n",
    "\n",
    "encoding_methods = {\n",
    "    'Code': lambda x: ''.join(format(ord(c), '08b') for c in x),\n",
    "    'Professor': lambda x: bin(x)[2:],\n",
    "    'Prerequisites': encode_prerequisites,\n",
    "    # 'Unit': lambda x: bin(x)[2:],\n",
    "    'Is Practical': lambda x: '1' if x else '0',\n",
    "    'Degree level': encode_dlevel,\n",
    "    'Professor Available Times': encode_timetable\n",
    "}\n",
    "\n",
    "for column, encoding_method in encoding_methods.items():\n",
    "    df[column] = df[column].apply(encoding_method)\n",
    "\n",
    "# df.to_csv('your path/csv files/binary_data.csv', index=False)"
   ]
  },
  {
   "attachments": {},
   "cell_type": "markdown",
   "metadata": {},
   "source": [
    "Original (decode binary data)"
   ]
  },
  {
   "cell_type": "code",
   "execution_count": 6,
   "metadata": {},
   "outputs": [],
   "source": [
    "df = pd.read_csv('your path/csv files/binary_data.csv')\n",
    "\n",
    "decoding_methods = {\n",
    "    'Code': lambda x: ''.join(chr(int(x[i:i+8], 2)) for i in range(0, len(x), 8)),\n",
    "    'Professor': lambda x: int(str(x), 2),  \n",
    "    'Prerequisites': decode_prerequisites,\n",
    "    # 'Unit': lambda x: int(str(x), 2),  \n",
    "    'Is Practical': lambda x: bool(int(x)),\n",
    "    'Degree level': decode_dlevel,\n",
    "    'Professor Available Times': decode_timetable\n",
    "}\n",
    "\n",
    "for column, decoding_method in decoding_methods.items():\n",
    "    df[column] = df[column].apply(decoding_method)\n",
    "\n",
    "# df.to_csv('your path/csv files/decoded_data.csv', index=False)"
   ]
  },
  {
   "attachments": {},
   "cell_type": "markdown",
   "metadata": {},
   "source": [
    "GA"
   ]
  },
  {
   "cell_type": "code",
   "execution_count": 9,
   "metadata": {},
   "outputs": [],
   "source": [
    "# 1 : Initial Populstion : generate random population\n",
    "def grandom_population(courses):\n",
    "    population = {}\n",
    "    for course in courses:\n",
    "        available_times = course[\"professor_available_times\"]\n",
    "\n",
    "        time = random.choice(available_times)\n",
    "\n",
    "        population[course[\"code\"]+course[\"group\"]] = time\n",
    "\n",
    "    return population\n",
    "\n",
    "# 2 : Fitness Function\n",
    "def fitness(population, courses):\n",
    "    conflicts = 0\n",
    "    for course1 in courses:\n",
    "        for course2 in courses:\n",
    "            if course1 != course2:\n",
    "                # time conflicts happend\n",
    "                if population[course1[\"code\"]+course1[\"group\"]] == population[course2[\"code\"]+course2[\"group\"]]:\n",
    "\n",
    "                    # use 'elif' to prevent from checking twice\n",
    "                    if course1[\"professor\"] == course2[\"professor\"]:\n",
    "                        available_times = course1[\"professor_available_times\"]\n",
    "                        time = random.choice([t for t in available_times if t != population[course1[\"code\"]+course1[\"group\"]]])\n",
    "                        # time = random.choice(available_times)\n",
    "                        population[course1[\"code\"]+course1[\"group\"]] = time\n",
    "\n",
    "                    elif course1[\"code\"] == course2[\"code\"] and course1[\"group\"] != course2[\"group\"]:\n",
    "                        conflicts -= 1\n",
    "                    elif course1[\"code\"] in course2[\"prerequisites\"]:\n",
    "                        conflicts -= 1\n",
    "                    elif course1[\"is_practical\"] != course2[\"is_practical\"]:\n",
    "                        conflicts -= 1\n",
    "                    elif course1[\"degree_level\"] != course2[\"degree_level\"]:\n",
    "                        conflicts -= 1\n",
    "                    else:\n",
    "                        conflicts += 1\n",
    "                else:\n",
    "                    conflicts -=1\n",
    "    return conflicts\n",
    "\n",
    "# 3 : cross over\n",
    "def crossover(population1, population2, courses, pc=PC):\n",
    "    random_num = random.random()\n",
    "\n",
    "    if random_num <= pc:\n",
    "        course1 = random.choice(courses)\n",
    "        course2 = random.choice(courses)\n",
    "\n",
    "        new_population1 = population1.copy()\n",
    "        new_population2 = population2.copy()\n",
    "\n",
    "        new_population1[course1[\"code\"]+course1[\"group\"]] = population2[course1[\"code\"]+course1[\"group\"]]\n",
    "        new_population2[course2[\"code\"]+course2[\"group\"]] = population1[course2[\"code\"]+course2[\"group\"]]\n",
    "        return new_population1, new_population2\n",
    "        \n",
    "    return population1, population2\n",
    "\n",
    "# 4 : mutation\n",
    "def mutation(population, courses, pm=PM):\n",
    "    random_num = random.random()\n",
    "\n",
    "    if random_num <= pm:\n",
    "        course = random.choice(courses)\n",
    "\n",
    "        available_times = course[\"professor_available_times\"]\n",
    "\n",
    "        new_time = random.choice(available_times)\n",
    "\n",
    "        population[course[\"code\"]+course[\"group\"]] = new_time\n",
    "    return population\n",
    "\n",
    "# 4 : selection and \n",
    "# 5 : terminate with optimal population\n",
    "def selection(courses, num_populations, num_iterations):\n",
    "    populations = [grandom_population(courses) for _ in range(num_populations)]\n",
    "\n",
    "    for _ in range(num_iterations):\n",
    "        populations.sort(key=lambda x: fitness(x, courses))\n",
    "        best_populations = populations.copy() \n",
    "\n",
    "        best_populations.pop(0)\n",
    "\n",
    "        new_populations = []\n",
    "        for i in range(len(populations) // 2):\n",
    "            new_populations.extend(crossover(populations[i], populations[i + 1], courses))\n",
    "            new_populations.append(mutation(populations[i], courses))\n",
    "\n",
    "        populations = new_populations\n",
    "        \n",
    "    # for population in populations:\n",
    "    return populations[-1]\n",
    "\n",
    "# convert csv file to list of dictionaries\n",
    "def csv_list(filename):\n",
    "    with open(filename, \"r\") as f:\n",
    "        reader = csv.reader(f)\n",
    "        next(reader)\n",
    "        courses = []\n",
    "        for row in reader:\n",
    "            course = {\n",
    "                \"code\": row[0],\n",
    "                \"professor\": row[1],\n",
    "                \"prerequisites\": row[2],\n",
    "                \"is_practical\": bool(row[3]),\n",
    "                \"degree_level\": row[4],\n",
    "                \"professor_available_times\": ast.literal_eval(row[5]),\n",
    "                \"group\": row[6]\n",
    "                \n",
    "            }\n",
    "            courses.append(course)\n",
    "    return courses"
   ]
  },
  {
   "attachments": {},
   "cell_type": "markdown",
   "metadata": {},
   "source": [
    "Initialization of genetic algorithm parameters"
   ]
  },
  {
   "cell_type": "code",
   "execution_count": 8,
   "metadata": {},
   "outputs": [],
   "source": [
    "POP_SIZE = 10\n",
    "MAX_GENERATION = 10\n",
    "PC = 0.8\n",
    "PM = 0.01\n",
    "\n",
    "\n",
    "COURSE_CODE_LEN = 5"
   ]
  },
  {
   "cell_type": "code",
   "execution_count": 10,
   "metadata": {},
   "outputs": [],
   "source": [
    "courses = csv_list(\"your path/csv files/binary_data.csv\")\n",
    "# population = selection(courses, POP_SIZE, MAX_GENERATION)"
   ]
  },
  {
   "attachments": {},
   "cell_type": "markdown",
   "metadata": {},
   "source": [
    "The genetic algorithm is very dependent on its initial random population,   \n",
    "so if there is interference, we repeat the genetic algorithm again."
   ]
  },
  {
   "cell_type": "code",
   "execution_count": 16,
   "metadata": {},
   "outputs": [],
   "source": [
    "data = []\n",
    "for i in range(5):\n",
    "    answer = selection(courses, POP_SIZE, MAX_GENERATION)\n",
    "    conflicts, conf_num = find_time_conflicts(decode_answer(answer=answer))\n",
    "    data.append({frozenset(conflicts): decode_answer(answer=answer), \"conf\" : conf_num})\n",
    "    \n",
    "min_dict = min(data, key=lambda x: x[\"conf\"])"
   ]
  },
  {
   "cell_type": "code",
   "execution_count": 17,
   "metadata": {},
   "outputs": [
    {
     "data": {
      "text/plain": [
       "{frozenset(): {'CE1011': ['Tuesday 11:00-12:30'],\n",
       "  'CE1021': ['Wednesday 13:00-14:30'],\n",
       "  'CE1031': ['Monday 14:00-15:30'],\n",
       "  'CE1041': ['Wednesday 11:00-12:30'],\n",
       "  'CE1051': ['Monday 11:00-12:30'],\n",
       "  'CE1061': ['Monday 10:00-11:30'],\n",
       "  'CE1071': ['Tuesday 16:00-17:30'],\n",
       "  'CE2011': ['Tuesday 09:00-10:30'],\n",
       "  'CE2021': ['Saturday 10:00-11:30'],\n",
       "  'CE2031': ['Wednesday 10:00-11:30'],\n",
       "  'CE2041': ['Wednesday 13:00-14:30'],\n",
       "  'CE2051': ['Tuesday 10:00-11:30'],\n",
       "  'CE2061': ['Monday 10:00-11:30'],\n",
       "  'CE2071': ['Saturday 16:00-17:30'],\n",
       "  'CE3011': ['Tuesday 13:00-14:30'],\n",
       "  'CE3021': ['Wednesday 11:00-12:30'],\n",
       "  'CE3031': ['Saturday 16:00-17:30'],\n",
       "  'CE3041': ['Wednesday 14:00-15:30'],\n",
       "  'CE3051': ['Monday 13:00-14:30'],\n",
       "  'CE3061': ['Saturday 11:00-12:30'],\n",
       "  'CE3071': ['Monday 09:00-10:30'],\n",
       "  'CE3081': ['Tuesday 11:00-12:30'],\n",
       "  'CE3091': ['Tuesday 10:00-11:30'],\n",
       "  'CE3101': ['Monday 16:00-17:30'],\n",
       "  'CE3111': ['Wednesday 15:00-16:30'],\n",
       "  'CE3121': ['Tuesday 13:00-14:30'],\n",
       "  'CE3131': ['Wednesday 09:00-10:30'],\n",
       "  'EE1011': ['Monday 15:00-16:30'],\n",
       "  'EE1021': ['Thursday 11:00-12:30'],\n",
       "  'EE1031': ['Saturday 14:00-15:30'],\n",
       "  'EE1041': ['Saturday 11:00-12:30'],\n",
       "  'EE1051': ['Thursday 14:00-15:30'],\n",
       "  'EE2011': ['Saturday 13:00-14:30'],\n",
       "  'EE2021': ['Monday 14:00-15:30'],\n",
       "  'EE2031': ['Thursday 16:00-17:30'],\n",
       "  'EE2041': ['Monday 15:00-16:30'],\n",
       "  'EE2051': ['Thursday 13:00-14:30'],\n",
       "  'ME1011': ['Thursday 10:00-11:30'],\n",
       "  'ME1021': ['Wednesday 09:00-10:30'],\n",
       "  'ME1031': ['Tuesday 14:00-15:30'],\n",
       "  'CE1022': ['Tuesday 11:00-12:30']},\n",
       " 'conf': 0.0}"
      ]
     },
     "execution_count": 17,
     "metadata": {},
     "output_type": "execute_result"
    }
   ],
   "source": [
    "min_dict"
   ]
  },
  {
   "cell_type": "code",
   "execution_count": 12,
   "metadata": {},
   "outputs": [],
   "source": [
    "def decode_answer(answer):\n",
    "    y = {}\n",
    "    for key, value in answer.items():\n",
    "        key1 = ''.join(chr(int(key[i:i+8], 2)) for i in range(0, COURSE_CODE_LEN*8, 8)) + str(int(str(key[COURSE_CODE_LEN*8:]), 2))\n",
    "        value1 = decode_timetable(str([value]))\n",
    "        y[key1] = value1\n",
    "    return y"
   ]
  },
  {
   "cell_type": "code",
   "execution_count": 13,
   "metadata": {},
   "outputs": [],
   "source": [
    "def find_time_conflicts(schedule):\n",
    "    conflicts = []\n",
    "    conf_num = 0\n",
    "    df = pd.read_csv(\"your path\\csv files\\decoded_data.csv\")\n",
    "    \n",
    "    for course1, value1 in schedule.items():\n",
    "        for course2, value2 in schedule.items():\n",
    "            if course1 != course2:\n",
    "                for time1 in value1:\n",
    "                    for time2 in value2:\n",
    "                        if time1 == time2:\n",
    "                            # conflict = (course1, course2, time1)\n",
    "                            row1 = df.loc[(df['Code'] == course1[:COURSE_CODE_LEN]) & (df['Group'] == int(course1[COURSE_CODE_LEN:]))]\n",
    "                            row2 = df.loc[(df['Code'] == course2[:COURSE_CODE_LEN]) & (df['Group'] == int(course2[COURSE_CODE_LEN:]))]\n",
    "\n",
    "                            if row1[\"Professor\"].values[0] == row2[\"Professor\"].values[0]:\n",
    "                                print(\"impossible conflict!!\", course1, course2, time1)\n",
    "                                conf_num +=1\n",
    "                            elif row1[\"Is Practical\"].values[0] != row2[\"Is Practical\"].values[0] or row1[\"Degree level\"].values[0] != row2[\"Degree level\"].values[0]:\n",
    "                                pass\n",
    "                            elif row1[\"Code\"].values[0] in row2[\"Prerequisites\"].values or row2[\"Code\"].values[0] in row1[\"Prerequisites\"].values:\n",
    "                                pass\n",
    "                            elif row1[\"Code\"].values[0] == row2[\"Code\"].values[0] and row1[\"Group\"].values[0] != row2[\"Group\"].values[0]:\n",
    "                                pass\n",
    "                            else:\n",
    "                                conf_num +=1\n",
    "                                conflicts.append((course1, course2, time1))\n",
    "    return set(conflicts), conf_num/2"
   ]
  },
  {
   "attachments": {},
   "cell_type": "markdown",
   "metadata": {},
   "source": [
    "Plot TimeTable Using Plotly library"
   ]
  },
  {
   "cell_type": "code",
   "execution_count": 18,
   "metadata": {},
   "outputs": [],
   "source": [
    "def timetable_plot(data, string):\n",
    "    all_hours = sorted(set(time_slot.split(' ')[1] for timeslots in data.values() for time_slot in timeslots))\n",
    "\n",
    "    days_of_week = ['Monday', 'Tuesday', 'Wednesday', 'Thursday', 'Friday', 'Saturday', 'Sunday']\n",
    "    timetable = {day: [''] * len(all_hours) for day in days_of_week}\n",
    "\n",
    "    for course, values in data.items():\n",
    "        for timeslot in values:\n",
    "            day, time_range = timeslot.split(' ')\n",
    "            index = all_hours.index(time_range)\n",
    "            \n",
    "            if timetable[day][index] == '':\n",
    "                timetable[day][index] = f'{course[:COURSE_CODE_LEN]}-{course[COURSE_CODE_LEN:]}'\n",
    "            else:\n",
    "                timetable[day][index] += f'<br>{course[:COURSE_CODE_LEN]}-{course[COURSE_CODE_LEN:]}'\n",
    "\n",
    "    fig = go.Figure(data=[go.Table(\n",
    "        header=dict(values=['Time'] + days_of_week),\n",
    "        cells=dict(values=[all_hours] + [timetable[day] for day in days_of_week]))])\n",
    "\n",
    "    fig.update_layout(\n",
    "        title=f\"Course Timetable {string}\",\n",
    "        autosize=False, width=800, height=400)\n",
    "\n",
    "    fig.show()"
   ]
  },
  {
   "cell_type": "code",
   "execution_count": 20,
   "metadata": {},
   "outputs": [
    {
     "data": {
      "application/vnd.plotly.v1+json": {
       "config": {
        "plotlyServerURL": "https://plot.ly"
       },
       "data": [
        {
         "cells": {
          "values": [
           [
            "09:00-10:30",
            "10:00-11:30",
            "11:00-12:30",
            "13:00-14:30",
            "14:00-15:30",
            "15:00-16:30",
            "16:00-17:30"
           ],
           [
            "CE307-1",
            "CE106-1<br>CE206-1",
            "CE105-1",
            "CE305-1",
            "CE103-1<br>EE202-1",
            "EE101-1<br>EE204-1",
            "CE310-1"
           ],
           [
            "CE201-1",
            "CE205-1<br>CE309-1",
            "CE101-1<br>CE308-1<br>CE102-2",
            "CE301-1<br>CE312-1",
            "ME103-1",
            "",
            "CE107-1"
           ],
           [
            "CE313-1<br>ME102-1",
            "CE203-1",
            "CE104-1<br>CE302-1",
            "CE102-1<br>CE204-1",
            "CE304-1",
            "CE311-1",
            ""
           ],
           [
            "",
            "ME101-1",
            "EE102-1",
            "EE205-1",
            "EE105-1",
            "",
            "EE203-1"
           ],
           [
            "",
            "",
            "",
            "",
            "",
            "",
            ""
           ],
           [
            "",
            "CE202-1",
            "CE306-1<br>EE104-1",
            "EE201-1",
            "EE103-1",
            "",
            "CE207-1<br>CE303-1"
           ],
           [
            "",
            "",
            "",
            "",
            "",
            "",
            ""
           ]
          ]
         },
         "header": {
          "values": [
           "Time",
           "Monday",
           "Tuesday",
           "Wednesday",
           "Thursday",
           "Friday",
           "Saturday",
           "Sunday"
          ]
         },
         "type": "table"
        }
       ],
       "layout": {
        "autosize": false,
        "height": 400,
        "template": {
         "data": {
          "bar": [
           {
            "error_x": {
             "color": "#2a3f5f"
            },
            "error_y": {
             "color": "#2a3f5f"
            },
            "marker": {
             "line": {
              "color": "#E5ECF6",
              "width": 0.5
             },
             "pattern": {
              "fillmode": "overlay",
              "size": 10,
              "solidity": 0.2
             }
            },
            "type": "bar"
           }
          ],
          "barpolar": [
           {
            "marker": {
             "line": {
              "color": "#E5ECF6",
              "width": 0.5
             },
             "pattern": {
              "fillmode": "overlay",
              "size": 10,
              "solidity": 0.2
             }
            },
            "type": "barpolar"
           }
          ],
          "carpet": [
           {
            "aaxis": {
             "endlinecolor": "#2a3f5f",
             "gridcolor": "white",
             "linecolor": "white",
             "minorgridcolor": "white",
             "startlinecolor": "#2a3f5f"
            },
            "baxis": {
             "endlinecolor": "#2a3f5f",
             "gridcolor": "white",
             "linecolor": "white",
             "minorgridcolor": "white",
             "startlinecolor": "#2a3f5f"
            },
            "type": "carpet"
           }
          ],
          "choropleth": [
           {
            "colorbar": {
             "outlinewidth": 0,
             "ticks": ""
            },
            "type": "choropleth"
           }
          ],
          "contour": [
           {
            "colorbar": {
             "outlinewidth": 0,
             "ticks": ""
            },
            "colorscale": [
             [
              0,
              "#0d0887"
             ],
             [
              0.1111111111111111,
              "#46039f"
             ],
             [
              0.2222222222222222,
              "#7201a8"
             ],
             [
              0.3333333333333333,
              "#9c179e"
             ],
             [
              0.4444444444444444,
              "#bd3786"
             ],
             [
              0.5555555555555556,
              "#d8576b"
             ],
             [
              0.6666666666666666,
              "#ed7953"
             ],
             [
              0.7777777777777778,
              "#fb9f3a"
             ],
             [
              0.8888888888888888,
              "#fdca26"
             ],
             [
              1,
              "#f0f921"
             ]
            ],
            "type": "contour"
           }
          ],
          "contourcarpet": [
           {
            "colorbar": {
             "outlinewidth": 0,
             "ticks": ""
            },
            "type": "contourcarpet"
           }
          ],
          "heatmap": [
           {
            "colorbar": {
             "outlinewidth": 0,
             "ticks": ""
            },
            "colorscale": [
             [
              0,
              "#0d0887"
             ],
             [
              0.1111111111111111,
              "#46039f"
             ],
             [
              0.2222222222222222,
              "#7201a8"
             ],
             [
              0.3333333333333333,
              "#9c179e"
             ],
             [
              0.4444444444444444,
              "#bd3786"
             ],
             [
              0.5555555555555556,
              "#d8576b"
             ],
             [
              0.6666666666666666,
              "#ed7953"
             ],
             [
              0.7777777777777778,
              "#fb9f3a"
             ],
             [
              0.8888888888888888,
              "#fdca26"
             ],
             [
              1,
              "#f0f921"
             ]
            ],
            "type": "heatmap"
           }
          ],
          "heatmapgl": [
           {
            "colorbar": {
             "outlinewidth": 0,
             "ticks": ""
            },
            "colorscale": [
             [
              0,
              "#0d0887"
             ],
             [
              0.1111111111111111,
              "#46039f"
             ],
             [
              0.2222222222222222,
              "#7201a8"
             ],
             [
              0.3333333333333333,
              "#9c179e"
             ],
             [
              0.4444444444444444,
              "#bd3786"
             ],
             [
              0.5555555555555556,
              "#d8576b"
             ],
             [
              0.6666666666666666,
              "#ed7953"
             ],
             [
              0.7777777777777778,
              "#fb9f3a"
             ],
             [
              0.8888888888888888,
              "#fdca26"
             ],
             [
              1,
              "#f0f921"
             ]
            ],
            "type": "heatmapgl"
           }
          ],
          "histogram": [
           {
            "marker": {
             "pattern": {
              "fillmode": "overlay",
              "size": 10,
              "solidity": 0.2
             }
            },
            "type": "histogram"
           }
          ],
          "histogram2d": [
           {
            "colorbar": {
             "outlinewidth": 0,
             "ticks": ""
            },
            "colorscale": [
             [
              0,
              "#0d0887"
             ],
             [
              0.1111111111111111,
              "#46039f"
             ],
             [
              0.2222222222222222,
              "#7201a8"
             ],
             [
              0.3333333333333333,
              "#9c179e"
             ],
             [
              0.4444444444444444,
              "#bd3786"
             ],
             [
              0.5555555555555556,
              "#d8576b"
             ],
             [
              0.6666666666666666,
              "#ed7953"
             ],
             [
              0.7777777777777778,
              "#fb9f3a"
             ],
             [
              0.8888888888888888,
              "#fdca26"
             ],
             [
              1,
              "#f0f921"
             ]
            ],
            "type": "histogram2d"
           }
          ],
          "histogram2dcontour": [
           {
            "colorbar": {
             "outlinewidth": 0,
             "ticks": ""
            },
            "colorscale": [
             [
              0,
              "#0d0887"
             ],
             [
              0.1111111111111111,
              "#46039f"
             ],
             [
              0.2222222222222222,
              "#7201a8"
             ],
             [
              0.3333333333333333,
              "#9c179e"
             ],
             [
              0.4444444444444444,
              "#bd3786"
             ],
             [
              0.5555555555555556,
              "#d8576b"
             ],
             [
              0.6666666666666666,
              "#ed7953"
             ],
             [
              0.7777777777777778,
              "#fb9f3a"
             ],
             [
              0.8888888888888888,
              "#fdca26"
             ],
             [
              1,
              "#f0f921"
             ]
            ],
            "type": "histogram2dcontour"
           }
          ],
          "mesh3d": [
           {
            "colorbar": {
             "outlinewidth": 0,
             "ticks": ""
            },
            "type": "mesh3d"
           }
          ],
          "parcoords": [
           {
            "line": {
             "colorbar": {
              "outlinewidth": 0,
              "ticks": ""
             }
            },
            "type": "parcoords"
           }
          ],
          "pie": [
           {
            "automargin": true,
            "type": "pie"
           }
          ],
          "scatter": [
           {
            "fillpattern": {
             "fillmode": "overlay",
             "size": 10,
             "solidity": 0.2
            },
            "type": "scatter"
           }
          ],
          "scatter3d": [
           {
            "line": {
             "colorbar": {
              "outlinewidth": 0,
              "ticks": ""
             }
            },
            "marker": {
             "colorbar": {
              "outlinewidth": 0,
              "ticks": ""
             }
            },
            "type": "scatter3d"
           }
          ],
          "scattercarpet": [
           {
            "marker": {
             "colorbar": {
              "outlinewidth": 0,
              "ticks": ""
             }
            },
            "type": "scattercarpet"
           }
          ],
          "scattergeo": [
           {
            "marker": {
             "colorbar": {
              "outlinewidth": 0,
              "ticks": ""
             }
            },
            "type": "scattergeo"
           }
          ],
          "scattergl": [
           {
            "marker": {
             "colorbar": {
              "outlinewidth": 0,
              "ticks": ""
             }
            },
            "type": "scattergl"
           }
          ],
          "scattermapbox": [
           {
            "marker": {
             "colorbar": {
              "outlinewidth": 0,
              "ticks": ""
             }
            },
            "type": "scattermapbox"
           }
          ],
          "scatterpolar": [
           {
            "marker": {
             "colorbar": {
              "outlinewidth": 0,
              "ticks": ""
             }
            },
            "type": "scatterpolar"
           }
          ],
          "scatterpolargl": [
           {
            "marker": {
             "colorbar": {
              "outlinewidth": 0,
              "ticks": ""
             }
            },
            "type": "scatterpolargl"
           }
          ],
          "scatterternary": [
           {
            "marker": {
             "colorbar": {
              "outlinewidth": 0,
              "ticks": ""
             }
            },
            "type": "scatterternary"
           }
          ],
          "surface": [
           {
            "colorbar": {
             "outlinewidth": 0,
             "ticks": ""
            },
            "colorscale": [
             [
              0,
              "#0d0887"
             ],
             [
              0.1111111111111111,
              "#46039f"
             ],
             [
              0.2222222222222222,
              "#7201a8"
             ],
             [
              0.3333333333333333,
              "#9c179e"
             ],
             [
              0.4444444444444444,
              "#bd3786"
             ],
             [
              0.5555555555555556,
              "#d8576b"
             ],
             [
              0.6666666666666666,
              "#ed7953"
             ],
             [
              0.7777777777777778,
              "#fb9f3a"
             ],
             [
              0.8888888888888888,
              "#fdca26"
             ],
             [
              1,
              "#f0f921"
             ]
            ],
            "type": "surface"
           }
          ],
          "table": [
           {
            "cells": {
             "fill": {
              "color": "#EBF0F8"
             },
             "line": {
              "color": "white"
             }
            },
            "header": {
             "fill": {
              "color": "#C8D4E3"
             },
             "line": {
              "color": "white"
             }
            },
            "type": "table"
           }
          ]
         },
         "layout": {
          "annotationdefaults": {
           "arrowcolor": "#2a3f5f",
           "arrowhead": 0,
           "arrowwidth": 1
          },
          "autotypenumbers": "strict",
          "coloraxis": {
           "colorbar": {
            "outlinewidth": 0,
            "ticks": ""
           }
          },
          "colorscale": {
           "diverging": [
            [
             0,
             "#8e0152"
            ],
            [
             0.1,
             "#c51b7d"
            ],
            [
             0.2,
             "#de77ae"
            ],
            [
             0.3,
             "#f1b6da"
            ],
            [
             0.4,
             "#fde0ef"
            ],
            [
             0.5,
             "#f7f7f7"
            ],
            [
             0.6,
             "#e6f5d0"
            ],
            [
             0.7,
             "#b8e186"
            ],
            [
             0.8,
             "#7fbc41"
            ],
            [
             0.9,
             "#4d9221"
            ],
            [
             1,
             "#276419"
            ]
           ],
           "sequential": [
            [
             0,
             "#0d0887"
            ],
            [
             0.1111111111111111,
             "#46039f"
            ],
            [
             0.2222222222222222,
             "#7201a8"
            ],
            [
             0.3333333333333333,
             "#9c179e"
            ],
            [
             0.4444444444444444,
             "#bd3786"
            ],
            [
             0.5555555555555556,
             "#d8576b"
            ],
            [
             0.6666666666666666,
             "#ed7953"
            ],
            [
             0.7777777777777778,
             "#fb9f3a"
            ],
            [
             0.8888888888888888,
             "#fdca26"
            ],
            [
             1,
             "#f0f921"
            ]
           ],
           "sequentialminus": [
            [
             0,
             "#0d0887"
            ],
            [
             0.1111111111111111,
             "#46039f"
            ],
            [
             0.2222222222222222,
             "#7201a8"
            ],
            [
             0.3333333333333333,
             "#9c179e"
            ],
            [
             0.4444444444444444,
             "#bd3786"
            ],
            [
             0.5555555555555556,
             "#d8576b"
            ],
            [
             0.6666666666666666,
             "#ed7953"
            ],
            [
             0.7777777777777778,
             "#fb9f3a"
            ],
            [
             0.8888888888888888,
             "#fdca26"
            ],
            [
             1,
             "#f0f921"
            ]
           ]
          },
          "colorway": [
           "#636efa",
           "#EF553B",
           "#00cc96",
           "#ab63fa",
           "#FFA15A",
           "#19d3f3",
           "#FF6692",
           "#B6E880",
           "#FF97FF",
           "#FECB52"
          ],
          "font": {
           "color": "#2a3f5f"
          },
          "geo": {
           "bgcolor": "white",
           "lakecolor": "white",
           "landcolor": "#E5ECF6",
           "showlakes": true,
           "showland": true,
           "subunitcolor": "white"
          },
          "hoverlabel": {
           "align": "left"
          },
          "hovermode": "closest",
          "mapbox": {
           "style": "light"
          },
          "paper_bgcolor": "white",
          "plot_bgcolor": "#E5ECF6",
          "polar": {
           "angularaxis": {
            "gridcolor": "white",
            "linecolor": "white",
            "ticks": ""
           },
           "bgcolor": "#E5ECF6",
           "radialaxis": {
            "gridcolor": "white",
            "linecolor": "white",
            "ticks": ""
           }
          },
          "scene": {
           "xaxis": {
            "backgroundcolor": "#E5ECF6",
            "gridcolor": "white",
            "gridwidth": 2,
            "linecolor": "white",
            "showbackground": true,
            "ticks": "",
            "zerolinecolor": "white"
           },
           "yaxis": {
            "backgroundcolor": "#E5ECF6",
            "gridcolor": "white",
            "gridwidth": 2,
            "linecolor": "white",
            "showbackground": true,
            "ticks": "",
            "zerolinecolor": "white"
           },
           "zaxis": {
            "backgroundcolor": "#E5ECF6",
            "gridcolor": "white",
            "gridwidth": 2,
            "linecolor": "white",
            "showbackground": true,
            "ticks": "",
            "zerolinecolor": "white"
           }
          },
          "shapedefaults": {
           "line": {
            "color": "#2a3f5f"
           }
          },
          "ternary": {
           "aaxis": {
            "gridcolor": "white",
            "linecolor": "white",
            "ticks": ""
           },
           "baxis": {
            "gridcolor": "white",
            "linecolor": "white",
            "ticks": ""
           },
           "bgcolor": "#E5ECF6",
           "caxis": {
            "gridcolor": "white",
            "linecolor": "white",
            "ticks": ""
           }
          },
          "title": {
           "x": 0.05
          },
          "xaxis": {
           "automargin": true,
           "gridcolor": "white",
           "linecolor": "white",
           "ticks": "",
           "title": {
            "standoff": 15
           },
           "zerolinecolor": "white",
           "zerolinewidth": 2
          },
          "yaxis": {
           "automargin": true,
           "gridcolor": "white",
           "linecolor": "white",
           "ticks": "",
           "title": {
            "standoff": 15
           },
           "zerolinecolor": "white",
           "zerolinewidth": 2
          }
         }
        },
        "title": {
         "text": "Course Timetable with no Conflicts"
        },
        "width": 800
       }
      }
     },
     "metadata": {},
     "output_type": "display_data"
    }
   ],
   "source": [
    "timetable_plot(list(min_dict.values())[0], \"with no Conflicts\")"
   ]
  }
 ],
 "metadata": {
  "kernelspec": {
   "display_name": "Python 3",
   "language": "python",
   "name": "python3"
  },
  "language_info": {
   "codemirror_mode": {
    "name": "ipython",
    "version": 3
   },
   "file_extension": ".py",
   "mimetype": "text/x-python",
   "name": "python",
   "nbconvert_exporter": "python",
   "pygments_lexer": "ipython3",
   "version": "3.8.8"
  },
  "orig_nbformat": 4
 },
 "nbformat": 4,
 "nbformat_minor": 2
}
